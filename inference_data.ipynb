{
  "cells": [
    {
      "cell_type": "markdown",
      "metadata": {
        "id": "view-in-github",
        "colab_type": "text"
      },
      "source": [
        "<a href=\"https://colab.research.google.com/github/sherlockwisdom/Image-Properties/blob/main/inference_data.ipynb\" target=\"_parent\"><img src=\"https://colab.research.google.com/assets/colab-badge.svg\" alt=\"Open In Colab\"/></a>"
      ]
    },
    {
      "cell_type": "code",
      "execution_count": 16,
      "metadata": {
        "id": "K9xFH475xZy0"
      },
      "outputs": [],
      "source": [
        "import pandas as pd"
      ]
    },
    {
      "cell_type": "code",
      "execution_count": 17,
      "metadata": {
        "colab": {
          "base_uri": "https://localhost:8080/"
        },
        "id": "SyfgEifLx9xK",
        "outputId": "8c730e1d-2ad5-4322-d33f-3ea1f512a637"
      },
      "outputs": [
        {
          "output_type": "stream",
          "name": "stdout",
          "text": [
            "Index(['original_width', 'original_height', 'original_entropy',\n",
            "       'original_bytes', 'resized_width', 'resized_height', 'resized_entropy',\n",
            "       'resized_bytes', 'resized_approx_sms', 'compressed_entropy',\n",
            "       'compression_ratio', 'compressed_bytes', 'approx_sms',\n",
            "       'per_resized_res_changed', 'per_resized_entropy_change',\n",
            "       'per_compressed_entropy_change'],\n",
            "      dtype='object')\n"
          ]
        }
      ],
      "source": [
        "data = pd.read_csv('data.csv') \n",
        "\n",
        "print(data.keys())"
      ]
    },
    {
      "cell_type": "code",
      "execution_count": 18,
      "metadata": {
        "colab": {
          "base_uri": "https://localhost:8080/"
        },
        "id": "Q5QR8BVeyTfc",
        "outputId": "499f8ab3-5cdd-4754-f8ea-455d4fad2061"
      },
      "outputs": [
        {
          "output_type": "stream",
          "name": "stdout",
          "text": [
            "original: 461 461\n",
            "resized: 461 461\n",
            "{384400.0: [0], 699392.0: [1, 2, 3, 4], 812544.0: [5, 6, 7, 8], 677120.0: [9, 10, 11, 12, 392, 393, 394], 442368.0: [13, 14, 15, 16, 17], 435120.0: [18, 19, 20, 21, 22], 649440.0: [23, 24, 25], 11808768.0: [26, 27, 28, 347, 348, 349, 416, 417, 418], 68100.0: [29, 30, 31], 500000.0: [32, 33, 34], 787520.0: [35, 36, 37, 38, 39], 4915200.0: [40, 41, 42], 98884.0: [43, 44, 45], 1228800.0: [46, 47, 48, 66, 67, 68], 541696.0: [49, 50, 51, 52, 374, 375, 376], 539100.0: [53, 54, 55, 56], 24000000.0: [57, 58, 59], 1638400.0: [60, 61, 62, 109, 111, 112], 1517724.0: [63, 64, 65], 7990272.0: [69, 70, 71, 72, 73, 74, 75, 123, 124, 125, 126, 163, 164, 165, 175, 176, 177, 196, 197, 198, 268, 269, 270, 277, 278, 279, 308, 309, 310, 326], 12192768.0: [76, 77, 120, 121, 122, 166, 167, 168, 172, 173, 174, 187, 188, 189, 199, 200, 201, 271, 272, 273, 274, 275, 276, 280, 281, 282, 289, 290, 291, 304, 305, 306, 307, 334, 335, 336, 337, 338, 339, 340], 786432.0: [78, 79, 80, 81, 90, 91, 92, 93, 94, 95, 96, 97, 178, 179, 180, 193, 194, 195, 228, 229, 230, 244, 245, 246, 250, 251, 252, 431, 432, 433], 95816.0: [82, 83, 84, 85], 588800.0: [86, 87, 88, 89], 662700.0: [98, 99], 1152000.0: [100, 101, 102, 103, 341, 342, 343], 777600.0: [104, 105, 106, 107, 108, 212, 213, 214, 215, 322, 323, 324, 325], 545280.0: [110], 194208.0: [113, 114, 115, 116], 873720.0: [117, 118, 119], 2397600.0: [127, 128, 129], 145725.0: [130, 131, 132], 830520.0: [133, 134, 135, 283, 284, 285], 921600.0: [136, 137, 138, 311, 312, 313, 314], 692064.0: [139, 140, 141], 5736009.0: [142, 143, 144], 526240.0: [145, 146, 147], 345600.0: [148, 149, 150, 359, 360, 361], 573344.0: [151, 152, 153], 748251.0: [154, 155, 156, 157, 158], 874800.0: [159, 160, 161, 162, 181, 182, 183, 202, 203, 204, 208, 209, 210, 211, 265, 266, 267, 453, 454, 455, 456], 5038848.0: [169, 170, 171], 200160.0: [184, 185, 186], 772200.0: [190, 191, 192], 14914368.0: [205, 206, 207], 375000.0: [216, 217, 218, 219], 533655.0: [220, 221, 222, 223], 666000.0: [224, 225, 226, 227], 726016.0: [231, 232, 233], 589824.0: [234, 235], 196672.0: [236], 224676.0: [237], 5103081.0: [238, 239, 240], 69384.0: [241, 242, 243], 738048.0: [247, 248, 249], 1000000.0: [253, 254, 255, 256, 257, 258], 271796.0: [259, 260, 261], 2073600.0: [262, 263, 264], 1556480.0: [286, 287, 288], 396915.0: [292, 293, 294, 295], 225630.0: [296, 297, 298, 299], 656640.0: [300, 301, 302, 303], 660030.0: [315, 316, 317], 272000.0: [318, 319, 320, 321], 994680.0: [327, 328, 329, 330], 1381120.0: [331, 332, 333], 518400.0: [344, 345, 346], 309072.0: [350, 351, 352], 480000.0: [353, 354, 355, 422, 423, 424], 962688.0: [356, 357, 358], 518908.0: [362, 363, 364], 583648.0: [365, 366, 367], 170560.0: [368, 369, 370], 722016.0: [371, 372, 373], 587328.0: [377, 378, 379], 343750.0: [380, 381, 382], 99120.0: [383, 384, 385], 474600.0: [386, 387, 388], 176400.0: [389, 390, 391], 485030.0: [395, 396, 397], 536550.0: [398, 399, 400], 250000.0: [401, 402, 403], 396180.0: [404, 405, 406], 218056.0: [407, 408, 409], 157050.0: [410, 411, 412], 880992.0: [413, 414, 415], 939765.0: [419, 420, 421], 230400.0: [425, 426, 427], 585120.0: [428, 429, 430], nan: [434], 681750.0: [435, 436, 437, 438], 1390041.0: [439, 440, 441], 395641.0: [442, 443, 444, 445], 1332180.0: [446, 447, 448, 449], 326900.0: [450, 451, 452], 622080.0: [457, 458, 459, 460]}\n"
          ]
        }
      ],
      "source": [
        "# let's get all the available resolutions and see how they are affected differently\n",
        "\n",
        "# build a {float, list}\n",
        "resolutions = {}\n",
        "resized_resolutions = {}\n",
        "\n",
        "widths = data[\"original_width\"]\n",
        "heights = data[\"original_height\"]\n",
        "\n",
        "resized_widths = data[\"resized_width\"]\n",
        "resized_heights = data[\"resized_height\"]\n",
        "\n",
        "print(\"original:\", len(widths), len(heights))\n",
        "print(\"resized:\", len(resized_widths), len(resized_heights))\n",
        "\n",
        "for i in range(len(widths)):\n",
        "  res = widths[i] * heights[i]\n",
        "  if not res in resolutions:\n",
        "    resolutions[res] = [];\n",
        "  resolutions[res].append(i)\n",
        "\n",
        "print(resolutions)"
      ]
    },
    {
      "cell_type": "code",
      "execution_count": 23,
      "metadata": {
        "colab": {
          "base_uri": "https://localhost:8080/"
        },
        "id": "J1tK0DRW0TEi",
        "outputId": "a2f346ba-f0b6-442b-8790-9fa67d9545bf"
      },
      "outputs": [
        {
          "output_type": "stream",
          "name": "stdout",
          "text": [
            "max -  59\n",
            "RS: [91.52542372881356, 93.22033898305084, 93.22033898305084, 81.35593220338984, 77.96610169491525, 83.05084745762711, 94.91525423728814, 88.13559322033898, 81.35593220338984, 100.0, 91.52542372881356, 94.91525423728814, 83.05084745762711, 86.4406779661017, 94.91525423728814, 79.66101694915254, 77.96610169491525, 79.66101694915254, 89.83050847457628, 84.7457627118644, 86.4406779661017, 91.52542372881356, 81.35593220338984, 88.13559322033898, 57.6271186440678, 93.22033898305084, 83.05084745762711, 88.13559322033898]\n",
            "CR: [0, 0, 0, 0, 0, 0, 0, 0, 0, 0, 0, 0, 0, 0, 0, 0, 0, 0, 0, 0, 0, 0, 0, 0, 0, 0, 0, 0]\n",
            "CE: [7.71, 7.81, 7.39, 7.69, 7.63, 7.41, 7.67, 7.66, 7.6, 6.58, 7.3, 7.8, 7.68, 7.81, 7.74, 7.66, 7.49, 7.8, 6.77, 7.63, 7.26, 7.45, 7.07, 7.68, 7.55, 7.13, 7.64, 7.62]\n",
            "RE: [7.98, 7.99, 7.98, 7.98, 7.98, 7.99, 7.98, 7.98, 7.98, 7.97, 7.98, 7.97, 7.99, 7.98, 7.99, 7.99, 7.94, 7.99, 7.98, 7.99, 7.97, 7.98, 7.97, 7.99, 7.97, 7.99, 7.99, 7.96]\n",
            "OE: [7.98, 7.97, 7.98, 7.98, 7.97, 7.97, 7.97, 7.99, 7.97, 7.96, 7.98, 7.98, 7.99, 7.98, 7.98, 7.98, 7.97, 7.98, 7.98, 7.98, 7.98, 7.98, 7.98, 7.94, 7.95, 7.98, 7.97, 7.97]\n",
            "NO_SMS: [34, 48, 19, 32, 29, 20, 31, 30, 27, 10, 17, 47, 32, 46, 37, 31, 23, 44, 11, 28, 17, 21, 14, 32, 24, 15, 28, 28]\n",
            "R_NO_SMS: [1892, 2463, 1175, 1049, 1773, 899, 1652, 1725, 1423, 300, 981, 3210, 434, 2564, 1949, 1457, 1885, 1656, 629, 1307, 1343, 1285, 614, 974, 632, 1251, 877, 1655]\n"
          ]
        }
      ],
      "source": [
        "# extract the psychovisual values\n",
        "per_resized_res_changed = data['per_resized_res_changed']\n",
        "approx_sms = data['approx_sms']\n",
        "compressed_ratio = data['compression_ratio']\n",
        "\n",
        "RS = []\n",
        "CR = []\n",
        "CE = []\n",
        "RE = []\n",
        "OE = []\n",
        "NO_SMS = []\n",
        "R_NO_SMS = []\n",
        "\n",
        "import math\n",
        "for res in resolutions:\n",
        "  indexes = resolutions[res]\n",
        "\n",
        "  # find the index for the values which have the best psychovisuals\n",
        "  # use per_resized_res_changed\n",
        "  for i in indexes:\n",
        "    try:\n",
        "      res_change = float(per_resized_res_changed[i])\n",
        "      res_change_diff = res - int(data['resized_width'][i] * data['resized_height'][i])\n",
        "    except Exception:\n",
        "      continue\n",
        "\n",
        "    if math.isnan(res_change_diff) or math.isnan(res_change) or math.isnan(approx_sms[i]):\n",
        "      continue\n",
        "\n",
        "    if res_change > 60:\n",
        "      continue\n",
        "\n",
        "    # if res_change == 100 and compressed_ratio[i] == 0:\n",
        "    #   print(f\"# sms - {data['original_width'][i]}x{data['original_height'][i]} RS100 and CR0 - max:\", approx_sms[i])\n",
        "\n",
        "    # if int(res_change) == 33 and compressed_ratio[i] == 0:\n",
        "    #   print(f\"# sms - {data['original_width'][i]}x{data['original_height'][i]} RS33 and CR0 - min:\", approx_sms[i])\n",
        "\n",
        "    # print(f\"# sms - {data['original_width'][i]}x{data['original_height'][i]} RS{res_change} and CR{compressed_ratio[i]} - var:\", approx_sms[i])\n",
        "\n",
        "    if approx_sms[i] > 50:\n",
        "      continue\n",
        "\n",
        "\n",
        "    if data['compressed_entropy'][i] > 100:\n",
        "      continue\n",
        "\n",
        "    # if int(res_change) != 33 and int(res_change) != 100 and compressed_ratio[i] != 0:\n",
        "    if int(res_change) != 33 and int(res_change) != 100 and compressed_ratio[i] == 0:\n",
        "      CE.append(data['compressed_entropy'][i])\n",
        "      RE.append(data['resized_entropy'][i])\n",
        "      OE.append(data['original_entropy'][i])\n",
        "      RS.append(int(res_change))\n",
        "      res_change_diff = int(res_change_diff)\n",
        "\n",
        "      NO_SMS.append(int(approx_sms[i]))\n",
        "      R_NO_SMS.append(int(data['resized_approx_sms'][i]))\n",
        "      CR.append(int(compressed_ratio[i]))\n",
        "    \n",
        "    # CE.append(data['compressed_entropy'][i])\n",
        "    # RS.append(int(res_change))\n",
        "    # res_change_diff = int(res_change_diff)\n",
        "\n",
        "    # # RS.append(res_change_diff)\n",
        "    # NO_SMS.append(int(approx_sms[i]))\n",
        "    # CR.append(int(compressed_ratio[i]))\n",
        "  # print()\n",
        "\n",
        "max_value = max(RS)\n",
        "RS = [num / max_value * 100 for num in RS]\n",
        "\n",
        "print(\"max - \", max_value)\n",
        "print(\"RS:\", RS)\n",
        "print(\"CR:\", CR)\n",
        "print(\"CE:\", CE)\n",
        "print(\"RE:\", RE)\n",
        "print(\"OE:\", OE)\n",
        "print(\"NO_SMS:\", NO_SMS)\n",
        "print(\"R_NO_SMS:\", R_NO_SMS)"
      ]
    },
    {
      "cell_type": "code",
      "source": [
        "import matplotlib\n",
        "import numpy as np\n",
        "\n",
        "\n",
        "corr = np.corrcoef(R_NO_SMS, OE)\n",
        "corr_coef = corr[0][1]\n",
        "print(\"Coefficient:\", corr_coef)\n",
        "\n",
        "matplotlib.pyplot.scatter(OE, R_NO_SMS)\n",
        "matplotlib.pyplot.xlabel(\"Original Entropy ratio\")\n",
        "matplotlib.pyplot.ylabel(\"# of SMS\")\n",
        "\n",
        "matplotlib.pyplot.show()"
      ],
      "metadata": {
        "colab": {
          "base_uri": "https://localhost:8080/",
          "height": 296
        },
        "id": "dUWe8GnmBiWc",
        "outputId": "77d7bced-77aa-4552-e7ea-d2b8ad36629e"
      },
      "execution_count": 24,
      "outputs": [
        {
          "output_type": "stream",
          "name": "stdout",
          "text": [
            "Coefficient: 0.21045732473962597\n"
          ]
        },
        {
          "output_type": "display_data",
          "data": {
            "text/plain": [
              "<Figure size 432x288 with 1 Axes>"
            ],
            "image/png": "[encoded data removed]"
          },
          "metadata": {
            "needs_background": "light"
          }
        }
      ]
    },
    {
      "cell_type": "code",
      "execution_count": 25,
      "metadata": {
        "colab": {
          "base_uri": "https://localhost:8080/",
          "height": 296
        },
        "id": "5mjghVC66IzT",
        "outputId": "2ef34ef2-aed2-4145-e191-f166befe61b2"
      },
      "outputs": [
        {
          "output_type": "stream",
          "name": "stdout",
          "text": [
            "Coefficient: -0.11152496495629617\n"
          ]
        },
        {
          "output_type": "display_data",
          "data": {
            "text/plain": [
              "<Figure size 432x288 with 1 Axes>"
            ],
            "image/png": "[encoded data removed]"
          },
          "metadata": {
            "needs_background": "light"
          }
        }
      ],
      "source": [
        "corr = np.corrcoef(R_NO_SMS, RE)\n",
        "corr_coef = corr[0][1]\n",
        "print(\"Coefficient:\", corr_coef)\n",
        "\n",
        "matplotlib.pyplot.scatter(RE, R_NO_SMS)\n",
        "matplotlib.pyplot.xlabel(\"Resized Entropy ratio\")\n",
        "matplotlib.pyplot.ylabel(\"# of SMS\")\n",
        "\n",
        "matplotlib.pyplot.show()"
      ]
    },
    {
      "cell_type": "code",
      "execution_count": 22,
      "metadata": {
        "colab": {
          "base_uri": "https://localhost:8080/",
          "height": 296
        },
        "id": "QKldlxwgLcj0",
        "outputId": "44f5f95e-9ec5-42be-8169-1caee923cad4"
      },
      "outputs": [
        {
          "output_type": "stream",
          "name": "stdout",
          "text": [
            "Coefficient: 0.8691492159814568\n"
          ]
        },
        {
          "output_type": "display_data",
          "data": {
            "text/plain": [
              "<Figure size 432x288 with 1 Axes>"
            ],
            "image/png": "[encoded data removed]"
          },
          "metadata": {
            "needs_background": "light"
          }
        }
      ],
      "source": [
        "corr = np.corrcoef(NO_SMS, CE)\n",
        "corr_coef = corr[0][1]\n",
        "print(\"Coefficient:\", corr_coef)\n",
        "\n",
        "matplotlib.pyplot.scatter(CE, NO_SMS)\n",
        "matplotlib.pyplot.xlabel(\"Compressed Entropy ratio\")\n",
        "matplotlib.pyplot.ylabel(\"# of SMS\")\n",
        "\n",
        "matplotlib.pyplot.show()"
      ]
    },
    {
      "cell_type": "code",
      "source": [],
      "metadata": {
        "id": "CSFk0Pdx8tn5"
      },
      "execution_count": 22,
      "outputs": []
    }
  ],
  "metadata": {
    "colab": {
      "provenance": [],
      "authorship_tag": "ABX9TyPQ5ca458746QNZUg8wafUU",
      "include_colab_link": true
    },
    "kernelspec": {
      "display_name": "Python 3",
      "name": "python3"
    },
    "language_info": {
      "name": "python"
    }
  },
  "nbformat": 4,
  "nbformat_minor": 0
}